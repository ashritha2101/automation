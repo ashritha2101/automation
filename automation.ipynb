{
 "cells": [
  {
   "cell_type": "code",
   "execution_count": 5,
   "metadata": {},
   "outputs": [
    {
     "name": "stderr",
     "output_type": "stream",
     "text": [
      "[WDM] - Current google-chrome version is 92.0.4515\n",
      "[WDM] - Get LATEST driver version for 92.0.4515\n"
     ]
    },
    {
     "name": "stdout",
     "output_type": "stream",
     "text": [
      " \n"
     ]
    },
    {
     "name": "stderr",
     "output_type": "stream",
     "text": [
      "[WDM] - Driver [C:\\Users\\Admin\\.wdm\\drivers\\chromedriver\\win32\\92.0.4515.107\\chromedriver.exe] found in cache\n"
     ]
    },
    {
     "name": "stdout",
     "output_type": "stream",
     "text": [
      "['07947293415', '07947441799', '07947293152', '07947292214', '07947292585', '07947284343', '07947292691', '07947293563', '07947170358', '07947293223', '07947293130', '+(91)-9406622596', '+(91)-9303099926', '+(91)-9977983069', '+(91)-731-2928338', '+(91)-9752091717', '+(91)-731-4098800', '+(91)-9399639413', '+(91)-8602019003', '+(91)-9039090005']\n",
      "['https://web.whatsapp.com/send?phone=7947293415', 'https://web.whatsapp.com/send?phone=7947441799', 'https://web.whatsapp.com/send?phone=7947293152', 'https://web.whatsapp.com/send?phone=7947292214', 'https://web.whatsapp.com/send?phone=7947292585', 'https://web.whatsapp.com/send?phone=7947284343', 'https://web.whatsapp.com/send?phone=7947292691', 'https://web.whatsapp.com/send?phone=7947293563', 'https://web.whatsapp.com/send?phone=7947170358', 'https://web.whatsapp.com/send?phone=7947293223', 'https://web.whatsapp.com/send?phone=7947293130', 'https://web.whatsapp.com/send?phone=9406622596', 'https://web.whatsapp.com/send?phone=9303099926', 'https://web.whatsapp.com/send?phone=9977983069', 'https://web.whatsapp.com/send?phone=31-2928338', 'https://web.whatsapp.com/send?phone=9752091717', 'https://web.whatsapp.com/send?phone=31-4098800', 'https://web.whatsapp.com/send?phone=9399639413', 'https://web.whatsapp.com/send?phone=8602019003', 'https://web.whatsapp.com/send?phone=9039090005']\n",
      "                     Company Name  \\\n",
      "0                  Chefs biriyani   \n",
      "1                  M2 Food Restro   \n",
      "2   New Riddhi Siddhi Restauran..   \n",
      "3        Riddhi Siddhi Restaurant   \n",
      "4   Mud Oven Restaurant & Banqu..   \n",
      "5                    Biryani Farm   \n",
      "6     Omg Lunch Buzzer Restaurant   \n",
      "7   Desi Tadka Family Restauran..   \n",
      "8                Singh Restaurant   \n",
      "9                Amber Restaurant   \n",
      "10           Seasoning Restaurant   \n",
      "11             Aman Punjabi Dhaba   \n",
      "12                      Chawlas 2   \n",
      "13               Mohit Restaurant   \n",
      "14             Shri Laddu Maharaj   \n",
      "15           Mr Singhs Restaurant   \n",
      "16  Mister Shef Restaurant & Ca..   \n",
      "17      U TURN RESTAURANT & HOTEL   \n",
      "18  Hitchky The Family Restaura..   \n",
      "19              Nafees Restaurant   \n",
      "\n",
      "                                             Phone  \n",
      "0   https://web.whatsapp.com/send?phone=7947293415  \n",
      "1   https://web.whatsapp.com/send?phone=7947441799  \n",
      "2   https://web.whatsapp.com/send?phone=7947293152  \n",
      "3   https://web.whatsapp.com/send?phone=7947292214  \n",
      "4   https://web.whatsapp.com/send?phone=7947292585  \n",
      "5   https://web.whatsapp.com/send?phone=7947284343  \n",
      "6   https://web.whatsapp.com/send?phone=7947292691  \n",
      "7   https://web.whatsapp.com/send?phone=7947293563  \n",
      "8   https://web.whatsapp.com/send?phone=7947170358  \n",
      "9   https://web.whatsapp.com/send?phone=7947293223  \n",
      "10  https://web.whatsapp.com/send?phone=7947293130  \n",
      "11  https://web.whatsapp.com/send?phone=9406622596  \n",
      "12  https://web.whatsapp.com/send?phone=9303099926  \n",
      "13  https://web.whatsapp.com/send?phone=9977983069  \n",
      "14  https://web.whatsapp.com/send?phone=31-2928338  \n",
      "15  https://web.whatsapp.com/send?phone=9752091717  \n",
      "16  https://web.whatsapp.com/send?phone=31-4098800  \n",
      "17  https://web.whatsapp.com/send?phone=9399639413  \n",
      "18  https://web.whatsapp.com/send?phone=8602019003  \n",
      "19  https://web.whatsapp.com/send?phone=9039090005  \n"
     ]
    }
   ],
   "source": [
    "# importing the modules\n",
    "from selenium import webdriver\n",
    "from webdriver_manager.chrome import ChromeDriverManager\n",
    "\n",
    "driver = webdriver.Chrome(ChromeDriverManager().install())\n",
    "import pandas as pd\n",
    "import time\n",
    "import os\n",
    "\n",
    "\n",
    "driver.get(\"https://www.justdial.com/Indore/Home-Delivery-Restaurants/nct-10250324\")\n",
    "\n",
    "\n",
    "\n",
    "def strings_to_num(argument):\n",
    "    switcher = {\n",
    "        'dc': '+',\n",
    "        'fe': '(',\n",
    "        'hg': ')',\n",
    "        'ba': '-',\n",
    "        'acb': '0',\n",
    "        'yz': '1',\n",
    "        'wx': '2',\n",
    "        'vu': '3',\n",
    "        'ts': '4',\n",
    "        'rq': '5',\n",
    "        'po': '6',\n",
    "        'nm': '7',\n",
    "        'lk': '8',\n",
    "        'ji': '9'\n",
    "    }\n",
    "    return switcher.get(argument, \"nothing\")\n",
    "\n",
    "\n",
    "\n",
    "storeDetails = driver.find_elements_by_class_name('store-details')\n",
    "\n",
    "\n",
    "nameList = []\n",
    "numbersList = []\n",
    "a=[]\n",
    "\n",
    "\n",
    "for i in range(len(storeDetails)):\n",
    "\n",
    "    \n",
    "    name = storeDetails[i].find_element_by_class_name('lng_cont_name').text\n",
    "    contactList = storeDetails[i].find_elements_by_class_name('mobilesv')\n",
    "\n",
    "    myList = []\n",
    "\n",
    "    for j in range(len(contactList)):\n",
    "        myString = contactList[j].get_attribute('class').split(\"-\")[1]\n",
    "\n",
    "        myList.append(strings_to_num(myString))\n",
    "\n",
    "    nameList.append(name)\n",
    "    numbersList.append(\"\".join(myList))\n",
    "print(numbersList)\n",
    "a = [\"https://web.whatsapp.com/send?phone=\" + x[-10:] for x in numbersList]\n",
    "    # a.append(\"https://web.whatsapp.com/send?phone=\".join(numbersList))\n",
    "print(a)\n",
    "\n",
    "\n",
    "data = {'Company Name': nameList,\n",
    "        # 'Address': addressList,\n",
    "        'Phone': a}\n",
    "\n",
    "\n",
    "df = pd.DataFrame(data)\n",
    "print(df)\n",
    "\n",
    "# Save Data as .csv\n",
    "df.to_csv('demo1.csv', mode='a', header=False)"
   ]
  },
  {
   "cell_type": "code",
   "execution_count": null,
   "metadata": {},
   "outputs": [],
   "source": []
  },
  {
   "cell_type": "code",
   "execution_count": null,
   "metadata": {},
   "outputs": [],
   "source": []
  },
  {
   "cell_type": "code",
   "execution_count": null,
   "metadata": {},
   "outputs": [],
   "source": []
  },
  {
   "cell_type": "code",
   "execution_count": null,
   "metadata": {},
   "outputs": [],
   "source": []
  },
  {
   "cell_type": "code",
   "execution_count": null,
   "metadata": {},
   "outputs": [],
   "source": []
  },
  {
   "cell_type": "code",
   "execution_count": null,
   "metadata": {},
   "outputs": [],
   "source": []
  },
  {
   "cell_type": "code",
   "execution_count": null,
   "metadata": {},
   "outputs": [],
   "source": []
  }
 ],
 "metadata": {
  "kernelspec": {
   "display_name": "Python 3",
   "language": "python",
   "name": "python3"
  },
  "language_info": {
   "codemirror_mode": {
    "name": "ipython",
    "version": 3
   },
   "file_extension": ".py",
   "mimetype": "text/x-python",
   "name": "python",
   "nbconvert_exporter": "python",
   "pygments_lexer": "ipython3",
   "version": "3.8.5"
  }
 },
 "nbformat": 4,
 "nbformat_minor": 4
}
